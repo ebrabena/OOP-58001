{
  "nbformat": 4,
  "nbformat_minor": 0,
  "metadata": {
    "colab": {
      "name": "Prelim Exam.ipynb",
      "provenance": [],
      "authorship_tag": "ABX9TyMKn9HwEi/wbLnazmLmMerS",
      "include_colab_link": true
    },
    "kernelspec": {
      "name": "python3",
      "display_name": "Python 3"
    },
    "language_info": {
      "name": "python"
    }
  },
  "cells": [
    {
      "cell_type": "markdown",
      "metadata": {
        "id": "view-in-github",
        "colab_type": "text"
      },
      "source": [
        "<a href=\"https://colab.research.google.com/github/ebrabena/OOP-58001/blob/main/Prelim_Exam.ipynb\" target=\"_parent\"><img src=\"https://colab.research.google.com/assets/colab-badge.svg\" alt=\"Open In Colab\"/></a>"
      ]
    },
    {
      "cell_type": "code",
      "execution_count": 28,
      "metadata": {
        "colab": {
          "base_uri": "https://localhost:8080/"
        },
        "id": "m456bPmxKSRs",
        "outputId": "78c5da50-6bfd-40aa-a979-e2a35b4622eb"
      },
      "outputs": [
        {
          "output_type": "stream",
          "name": "stdout",
          "text": [
            "Full Name: Edrian Borinaga Rabena\n",
            "Student Number: 202114223\n",
            "Age: 18\n",
            "School: Adamson University\n",
            "Course: BS CpE\n"
          ]
        }
      ],
      "source": [
        "class Student:\n",
        "  def __init__(self,Name,Student_No,Age,School,Course):\n",
        "    self.Name = Name\n",
        "    self.Student_No = Student_No\n",
        "    self.Age = Age\n",
        "    self.School = School\n",
        "    self.Course = Course\n",
        "\n",
        "  def Myself(self):\n",
        "    print(\"Full Name:\",self.Name)\n",
        "    print(\"Student Number:\",self.Student_No)\n",
        "    print(\"Age:\",self.Age)\n",
        "    print(\"School:\",self.School)\n",
        "    print(\"Course:\",self.Course)\n",
        "\n",
        "Self = Student(\"Edrian Borinaga Rabena\", \"202114223\", \"18\", \"Adamson University\", \"BS CpE\")\n",
        "Self.Myself()"
      ]
    }
  ]
}