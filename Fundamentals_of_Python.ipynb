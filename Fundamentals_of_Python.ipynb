{
  "nbformat": 4,
  "nbformat_minor": 0,
  "metadata": {
    "colab": {
      "name": "Fundamentals of Python.ipynb",
      "provenance": [],
      "authorship_tag": "ABX9TyOwYYgTlY6ckOpx26TBaupf",
      "include_colab_link": true
    },
    "kernelspec": {
      "name": "python3",
      "display_name": "Python 3"
    },
    "language_info": {
      "name": "python"
    }
  },
  "cells": [
    {
      "cell_type": "markdown",
      "metadata": {
        "id": "view-in-github",
        "colab_type": "text"
      },
      "source": [
        "<a href=\"https://colab.research.google.com/github/ebrabena/OOP-58001/blob/main/Fundamentals_of_Python.ipynb\" target=\"_parent\"><img src=\"https://colab.research.google.com/assets/colab-badge.svg\" alt=\"Open In Colab\"/></a>"
      ]
    },
    {
      "cell_type": "markdown",
      "source": [
        "#Python Variables"
      ],
      "metadata": {
        "id": "K-1z_1AKkjUR"
      }
    },
    {
      "cell_type": "code",
      "source": [
        "x = 1\n",
        "a, b = 0, -1\n",
        "a,b,c=\"Sally\", \"John\", \"Anna\"\n",
        "\n",
        "print('This is a sample')\n",
        "print(a)"
      ],
      "metadata": {
        "colab": {
          "base_uri": "https://localhost:8080/"
        },
        "id": "i-wdAG5Tkley",
        "outputId": "98d92e44-1512-4a6d-99a2-5fa6279e2963"
      },
      "execution_count": null,
      "outputs": [
        {
          "output_type": "stream",
          "name": "stdout",
          "text": [
            "This is a sample\n",
            "Sally\n"
          ]
        }
      ]
    }
  ]
}