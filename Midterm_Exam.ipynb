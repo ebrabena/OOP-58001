{
  "nbformat": 4,
  "nbformat_minor": 0,
  "metadata": {
    "colab": {
      "name": "Midterm Exam.ipynb",
      "provenance": [],
      "authorship_tag": "ABX9TyPVECOogBWk2a0XFcjI2P+M",
      "include_colab_link": true
    },
    "kernelspec": {
      "name": "python3",
      "display_name": "Python 3"
    },
    "language_info": {
      "name": "python"
    }
  },
  "cells": [
    {
      "cell_type": "markdown",
      "metadata": {
        "id": "view-in-github",
        "colab_type": "text"
      },
      "source": [
        "<a href=\"https://colab.research.google.com/github/ebrabena/OOP-58001/blob/main/Midterm_Exam.ipynb\" target=\"_parent\"><img src=\"https://colab.research.google.com/assets/colab-badge.svg\" alt=\"Open In Colab\"/></a>"
      ]
    },
    {
      "cell_type": "markdown",
      "source": [
        "Program 1"
      ],
      "metadata": {
        "id": "yiG0g3Cosg5t"
      }
    },
    {
      "cell_type": "code",
      "source": [
        "def main():\n",
        "    class TemperatureConversion:\n",
        "        def __init__(self, temp=1):\n",
        "            self._temp = temp\n",
        "\n",
        "    class CelsiusToFahrenheit(TemperatureConversion):\n",
        "        def conversion(self):\n",
        "            return (self._temp * 9) / 5 + 32\n",
        "\n",
        "    class CelsiusToKelvin(TemperatureConversion):\n",
        "        def conversion(self):\n",
        "            return self._temp + 273.15\n",
        "\n",
        "    class FahrenheitToCelsius(TemperatureConversion):\n",
        "        def conversion(self):\n",
        "            return (self._temp - 32) * 5 / 9\n",
        "\n",
        "    class KelvinToCelsius(TemperatureConversion):\n",
        "        def conversion(self):\n",
        "            return self._temp - 273.15\n",
        "\n",
        "    temp = float(input(\"Enter the temperature: \"))\n",
        "    convert = CelsiusToKelvin(temp)\n",
        "    print(\"\\n(From C to K): \" + str(convert.conversion()) + \" Kelvin\")\n",
        "    convert = CelsiusToFahrenheit(temp)\n",
        "    print(\"(From C to F): \" + str(convert.conversion()) + \" Fahrenheit\")\n",
        "    convert = FahrenheitToCelsius(temp)\n",
        "    print(\"(From F to C): \" + str(convert.conversion()) + \" Celsius\")\n",
        "    convert = KelvinToCelsius(temp)\n",
        "    print(\"(From K to C): \" + str(convert.conversion()) + \" Celsius\")\n",
        "\n",
        "main()"
      ],
      "metadata": {
        "id": "nfiBBxsLsj1o"
      },
      "execution_count": null,
      "outputs": []
    },
    {
      "cell_type": "markdown",
      "source": [
        "Program 2"
      ],
      "metadata": {
        "id": "yoBqV9aKsoKJ"
      }
    },
    {
      "cell_type": "code",
      "source": [
        "from tkinter import *\n",
        "window = Tk()\n",
        "window.geometry(\"700x600\")\n",
        "window.title(\"Midterm in OOP\")\n",
        "\n",
        "label = Label(text=\"Enter your Full Name\", fg=\"Red\")\n",
        "label.place(x=150, y=200)\n",
        "entry = Entry(window)\n",
        "entry.place(x=360, y=200)\n",
        "\n",
        "def command1():\n",
        "    entry.insert(0, \" \")\n",
        "    label2 = Label(labelframe, text=entry.get())\n",
        "    label2.pack()\n",
        "\n",
        "button = Button(window, text=\"Click to display your Fullname\", command=command1, fg=\"Red\")\n",
        "button.place(x=150, y=300)\n",
        "\n",
        "labelframe = LabelFrame(window) \n",
        "labelframe.place(x=360, y=300)\n",
        "\n",
        "window.mainloop()"
      ],
      "metadata": {
        "id": "dtnDGOXYs39w"
      },
      "execution_count": null,
      "outputs": []
    }
  ]
}