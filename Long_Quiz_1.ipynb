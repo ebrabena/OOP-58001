{
  "nbformat": 4,
  "nbformat_minor": 0,
  "metadata": {
    "colab": {
      "name": "Long Quiz 1.ipynb",
      "provenance": [],
      "authorship_tag": "ABX9TyNd7n8dXc1kc/XpN8oiF5U6",
      "include_colab_link": true
    },
    "kernelspec": {
      "name": "python3",
      "display_name": "Python 3"
    },
    "language_info": {
      "name": "python"
    }
  },
  "cells": [
    {
      "cell_type": "markdown",
      "metadata": {
        "id": "view-in-github",
        "colab_type": "text"
      },
      "source": [
        "<a href=\"https://colab.research.google.com/github/ebrabena/OOP-58001/blob/main/Long_Quiz_1.ipynb\" target=\"_parent\"><img src=\"https://colab.research.google.com/assets/colab-badge.svg\" alt=\"Open In Colab\"/></a>"
      ]
    },
    {
      "cell_type": "code",
      "source": [
        "class Circle():\n",
        "  def __init__ (self, radius):\n",
        "    self.radius = int (radius)\n",
        "\n",
        "  def Perimeter (self):\n",
        "    return 2 * pi * self.radius\n",
        "\n",
        "  def Area (self):\n",
        "    return pi * (self.radius ** 2)\n",
        "\n",
        "  def Class_Name (self):\n",
        "    return \"OOP_58001\"\n",
        "\n",
        "  def Student_Number (self):\n",
        "    return \"202114223\"\n",
        "\n",
        "  def Name (self):\n",
        "    return \"Rabena, Edrian\"\n",
        "\n",
        "  def Display (self):\n",
        "    print(\"The perimeter of the circle is: \", self.Perimeter())\n",
        "    print(\"The area of the circle is: \", self.Area())\n",
        "    print(\"\")\n",
        "    print(self.Class_Name())\n",
        "    print(self.Student_Number())\n",
        "    print(self.Name())\n",
        "\n",
        "pi = 3.14\n",
        "self = Circle (input())\n",
        "self.Display()"
      ],
      "metadata": {
        "colab": {
          "base_uri": "https://localhost:8080/"
        },
        "id": "UDubRIMdHje1",
        "outputId": "1f0a8810-6bad-4a36-d613-36e232028ae0"
      },
      "execution_count": null,
      "outputs": [
        {
          "output_type": "stream",
          "name": "stdout",
          "text": [
            "7\n",
            "The perimeter of the circle is:  43.96\n",
            "The area of the circle is:  153.86\n",
            "\n",
            "OOP_58001\n",
            "202114223\n",
            "Rabena, Edrian\n"
          ]
        }
      ]
    }
  ]
}