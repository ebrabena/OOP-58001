{
  "nbformat": 4,
  "nbformat_minor": 0,
  "metadata": {
    "colab": {
      "name": "OOP Concepts_2.ipynb",
      "provenance": [],
      "collapsed_sections": [],
      "authorship_tag": "ABX9TyPZ1UyThBV43VjzbOF3KCAa",
      "include_colab_link": true
    },
    "kernelspec": {
      "name": "python3",
      "display_name": "Python 3"
    },
    "language_info": {
      "name": "python"
    }
  },
  "cells": [
    {
      "cell_type": "markdown",
      "metadata": {
        "id": "view-in-github",
        "colab_type": "text"
      },
      "source": [
        "<a href=\"https://colab.research.google.com/github/ebrabena/OOP-58001/blob/main/OOP_Concepts_2.ipynb\" target=\"_parent\"><img src=\"https://colab.research.google.com/assets/colab-badge.svg\" alt=\"Open In Colab\"/></a>"
      ]
    },
    {
      "cell_type": "markdown",
      "source": [
        "Classes with Multiple Objects"
      ],
      "metadata": {
        "id": "kx7etucfzaon"
      }
    },
    {
      "cell_type": "code",
      "source": [
        "class Birds:\n",
        "  def __init__(self, bird_name):\n",
        "    self.bird_name = bird_name\n",
        "  def flying_birds(self):\n",
        "    print(f\"{self.bird_name} flies above clouds\")\n",
        "  def non_flying_birds(self):\n",
        "    print(f\"{self.bird_name} is the national bird of the Philippines\")\n",
        "\n",
        "vulture = Birds(\"Griffon Vulture\")\n",
        "crane = Birds(\"Common Crane\")\n",
        "emu = Birds(\"Emu\")\n",
        "\n",
        "vulture.flying_birds()\n",
        "crane.flying_birds()\n",
        "emu.non_flying_birds()"
      ],
      "metadata": {
        "colab": {
          "base_uri": "https://localhost:8080/"
        },
        "id": "rA_PfiDIzdve",
        "outputId": "021619f7-5d89-481d-ebba-2ed668dbbd95"
      },
      "execution_count": null,
      "outputs": [
        {
          "output_type": "stream",
          "name": "stdout",
          "text": [
            "Griffon Vulture flies above clouds\n",
            "Common Crane flies above clouds\n",
            "Emu is the national bird of the Philippines\n"
          ]
        }
      ]
    },
    {
      "cell_type": "markdown",
      "source": [
        "Encapsulation with Private Attributes"
      ],
      "metadata": {
        "id": "DW1HSk5Mzrxb"
      }
    },
    {
      "cell_type": "code",
      "source": [
        "class foo:\n",
        "  def __init__(self, a, b):\n",
        "    self.a = a\n",
        "    self.b = b \n",
        "  def add(self):\n",
        "    return self.a + self.b\n",
        "foo_object = foo(3, 4)\n",
        "foo_object.add()\n",
        "\n",
        "foo_object.a = 6\n",
        "foo_object.add()"
      ],
      "metadata": {
        "colab": {
          "base_uri": "https://localhost:8080/"
        },
        "id": "b7yzQLHzzunU",
        "outputId": "8809f61e-60d4-4006-cf4b-b71adb21daf6"
      },
      "execution_count": null,
      "outputs": [
        {
          "output_type": "execute_result",
          "data": {
            "text/plain": [
              "10"
            ]
          },
          "metadata": {},
          "execution_count": 30
        }
      ]
    },
    {
      "cell_type": "code",
      "source": [
        "class foo:\n",
        "  def __init__(self, a, b):\n",
        "    self._a = a\n",
        "    self._b = b \n",
        "  def add(self):\n",
        "    return self._a + self._b\n",
        "foo_object = foo(3, 4)\n",
        "foo_object.add()\n",
        "\n",
        "foo_object._a = 6\n",
        "foo_object.add()"
      ],
      "metadata": {
        "colab": {
          "base_uri": "https://localhost:8080/"
        },
        "id": "TjfYMmOz0uee",
        "outputId": "b48c1363-6929-4743-b6ad-c2059f9c63a4"
      },
      "execution_count": null,
      "outputs": [
        {
          "output_type": "execute_result",
          "data": {
            "text/plain": [
              "10"
            ]
          },
          "metadata": {},
          "execution_count": 31
        }
      ]
    },
    {
      "cell_type": "markdown",
      "source": [
        "Encapsulation by Managing with Double Underscores"
      ],
      "metadata": {
        "id": "NtK0bb3A1-73"
      }
    },
    {
      "cell_type": "code",
      "source": [
        "class Counter:\n",
        "  def __init__(self):\n",
        "    self.current = 0 \n",
        "\n",
        "  def increment(self):\n",
        "    self.current += 2\n",
        "  \n",
        "  def value(self):\n",
        "    return self.current\n",
        "  \n",
        "  def reset(self):\n",
        "    self.current = 0 \n",
        "  \n",
        "counter = Counter()\n",
        "\n",
        "counter.increment()\n",
        "counter.increment()\n",
        "counter.increment()\n",
        "counter.increment()\n",
        "counter.increment()\n",
        "\n",
        "print(counter.value())"
      ],
      "metadata": {
        "colab": {
          "base_uri": "https://localhost:8080/"
        },
        "id": "TZ_tRtqV2Dfz",
        "outputId": "86c0ac95-0369-40aa-e78a-fd27e0ecbfc5"
      },
      "execution_count": null,
      "outputs": [
        {
          "output_type": "stream",
          "name": "stdout",
          "text": [
            "10\n"
          ]
        }
      ]
    },
    {
      "cell_type": "code",
      "source": [
        "class Counter:\n",
        "  def __init__(self):\n",
        "    self.current = 0\n",
        "\n",
        "  def increment(self):\n",
        "    self.current += 2\n",
        "\n",
        "  def value(self):\n",
        "    return self.current\n",
        "\n",
        "  def reset(self):\n",
        "    self.current = 0\n",
        "  \n",
        "counter = Counter()\n",
        "\n",
        "counter.increment()\n",
        "counter.increment()\n",
        "counter.increment()\n",
        "\n",
        "print(counter.value())"
      ],
      "metadata": {
        "colab": {
          "base_uri": "https://localhost:8080/"
        },
        "id": "PZAXHwv52XN-",
        "outputId": "34327037-f99c-492a-a8d7-1fe3c595d7b0"
      },
      "execution_count": null,
      "outputs": [
        {
          "output_type": "stream",
          "name": "stdout",
          "text": [
            "6\n"
          ]
        }
      ]
    },
    {
      "cell_type": "code",
      "source": [
        "class Counter:\n",
        "  def __init__(self):\n",
        "    self.current = 0\n",
        "\n",
        "  def increment(self):\n",
        "    self.current += 2\n",
        "\n",
        "  def value(self):\n",
        "    return self.current\n",
        "\n",
        "  def reset(self):\n",
        "    self.current = 0\n",
        "  \n",
        "counter = Counter()\n",
        "\n",
        "counter.increment()\n",
        "counter.increment()\n",
        "counter.increment()\n",
        "\n",
        "print(counter.reset())"
      ],
      "metadata": {
        "colab": {
          "base_uri": "https://localhost:8080/"
        },
        "id": "cnfld7Rh3OjJ",
        "outputId": "8d64af39-885b-4d8f-e7ac-b7af27c2e9ac"
      },
      "execution_count": null,
      "outputs": [
        {
          "output_type": "stream",
          "name": "stdout",
          "text": [
            "None\n"
          ]
        }
      ]
    },
    {
      "cell_type": "markdown",
      "source": [
        "Inheritance"
      ],
      "metadata": {
        "id": "KG2kHHPZ3Wbo"
      }
    },
    {
      "cell_type": "code",
      "source": [
        "class Person:\n",
        "  def __init__(self,name,surname):\n",
        "    self.name = name\n",
        "    self.surname = surname\n",
        "  def printname(self):\n",
        "    print(self.name, self.surname)\n",
        "\n",
        "x = Person(\"Edrian\", \"Rabena\")\n",
        "x.printname()\n",
        "\n",
        "class Student(Person):\n",
        "  pass\n",
        "\n",
        "x = Student(\"Ed\", \"Rabena\")\n",
        "x.printname()\n",
        "\n",
        "class Nickname(Student):\n",
        "  pass\n",
        "\n",
        "x = Nickname(\"Ian\", \"Rabena\")\n",
        "x.printname()"
      ],
      "metadata": {
        "colab": {
          "base_uri": "https://localhost:8080/"
        },
        "id": "Z3Wp5gih3oPD",
        "outputId": "184b3080-ded0-48d8-bc52-d5524315da87"
      },
      "execution_count": null,
      "outputs": [
        {
          "output_type": "stream",
          "name": "stdout",
          "text": [
            "Edrian Rabena\n",
            "Ed Rabena\n",
            "Ian Rabena\n"
          ]
        }
      ]
    },
    {
      "cell_type": "markdown",
      "source": [
        "Polymorphism"
      ],
      "metadata": {
        "id": "IGhqaNJL5XTj"
      }
    },
    {
      "cell_type": "code",
      "source": [
        "class RegularPolygon:\n",
        "  def __init__(self, side = 1):\n",
        "    self._side = side\n",
        "class Square(RegularPolygon):\n",
        "  def area(self):\n",
        "    return self._side * self._side\n",
        "class EquilateralTriangle(RegularPolygon):\n",
        "  def area(self):\n",
        "    return self._side * self._side * 0.433 \n",
        "\n",
        "obj1 = Square(23)\n",
        "obj2 = EquilateralTriangle(5)\n",
        "\n",
        "print(obj1.area())\n",
        "print(obj2.area())"
      ],
      "metadata": {
        "colab": {
          "base_uri": "https://localhost:8080/"
        },
        "id": "SOHnzo6b5ZD7",
        "outputId": "f74d015e-ae5f-4cac-f107-3180252a453f"
      },
      "execution_count": null,
      "outputs": [
        {
          "output_type": "stream",
          "name": "stdout",
          "text": [
            "529\n",
            "10.825\n"
          ]
        }
      ]
    },
    {
      "cell_type": "markdown",
      "source": [
        "Application"
      ],
      "metadata": {
        "id": "prDH5bneZbi3"
      }
    },
    {
      "cell_type": "code",
      "source": [
        "#The grades of Student 1 on prelims are 98, 87, 89, 100, and 76.\n",
        "#The grades of Student 1 on midterms are 76, 89, 91, 88, and 97.\n",
        "#The grades of Student 1 on finals are 60, 54, 100, 100, 98.\n",
        "\n",
        "#The grades of Student 2 on prelims are 89, 76, 50, 89, and 94.\n",
        "#The grades of Student 2 on midterms are 88, 76, 89, 84, and 96.\n",
        "#The grades of Student 2 on finals are 97, 95, 89, 90, and 99.\n",
        "\n",
        "#The grades of Student 3 on prelims are 100, 98, 99, 100, and 100.x\n",
        "#The grades of Student 3 on midterms are 89, 99, 98, 91, and 90.\n",
        "#The grades of Student 3 on finals are 90, 89, 83, 96, and 99.\n",
        "\n",
        "class Person():\n",
        "  def __init__(self, std, pre, mid, fin):\n",
        "    self.std = std\n",
        "    self.pre = pre\n",
        "    self.mid = mid\n",
        "    self.fin = fin\n",
        "\n",
        "  def Grade(self):\n",
        "    print(\"The total averages of prelims, midterms, and finals of\", self.std, \"respectively are\", self.pre, self.mid, self.fin)\n",
        "\n",
        "std1 = Person(\"Student 1\", (98+87+89+100+76)/5, (76+89+91+88+97)/5, (60+54+100+100+98)/5)\n",
        "std2 = Person(\"Student 2\", (89+76+50+89+94)/5, (88+76+89+84+96)/5, (97+95+89+90+99)/5)\n",
        "std3 = Person(\"Student 3\", (100+98+99+100+100)/5, (89+99+98+91+90)/5, (90+89+83+96+99)/5)\n",
        "\n",
        "std1.Grade()\n",
        "std2.Grade()\n",
        "std3.Grade()"
      ],
      "metadata": {
        "colab": {
          "base_uri": "https://localhost:8080/"
        },
        "id": "m--APvUKZck1",
        "outputId": "270c43d4-2362-4c5a-af5a-4ff9a3db54be"
      },
      "execution_count": null,
      "outputs": [
        {
          "output_type": "stream",
          "name": "stdout",
          "text": [
            "The total averages of prelims, midterms, and finals of Student 1 respectively are 90.0 88.2 82.4\n",
            "The total averages of prelims, midterms, and finals of Student 2 respectively are 79.6 86.6 94.0\n",
            "The total averages of prelims, midterms, and finals of Student 3 respectively are 99.4 93.4 91.4\n"
          ]
        }
      ]
    }
  ]
}